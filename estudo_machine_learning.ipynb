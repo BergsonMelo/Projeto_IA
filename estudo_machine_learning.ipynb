{
 "cells": [
  {
   "cell_type": "code",
   "execution_count": 1,
   "metadata": {},
   "outputs": [],
   "source": [
    "import matplotlib.pyplot as plt\n",
    "import warnings\n",
    "warnings.filterwarnings('ignore')\n",
    "from sklearn.linear_model import SGDClassifier\n",
    "from sklearn.model_selection import train_test_split\n",
    "from sklearn.metrics import confusion_matrix\n",
    "from sklearn import metrics\n",
    "from sklearn.feature_extraction.text import TfidfVectorizer\n",
    "import pandas as pd"
   ]
  },
  {
   "cell_type": "code",
   "execution_count": 2,
   "metadata": {},
   "outputs": [],
   "source": [
    "dados = pd.read_csv('dataset_IA.csv', encoding='utf-8', sep = ';')"
   ]
  },
  {
   "cell_type": "code",
   "execution_count": 3,
   "metadata": {},
   "outputs": [],
   "source": [
    "# A variável x é o texto (notícia) e a variável y é a classificaçãoId\n",
    "X = dados['texto'] # Informações\n",
    "Y = dados['classificacaoId'] # Rótulos\n",
    "tipo_de_noticia = dados['nome_area'].unique()\n",
    "# Convertendo todos os textos para minúsculo\n",
    "X = X.str.lower()"
   ]
  },
  {
   "cell_type": "code",
   "execution_count": 4,
   "metadata": {},
   "outputs": [
    {
     "data": {
      "text/plain": [
       "'O fit_transform() é usado para aprender o vocabulário do conjunto de dados de treinamento e também para\\ntransformar os dados de treinamento em vetores de características. O transform() é usado para transformar os\\ndados de teste em vetores característicos com base no vocabulário aprendido.'"
      ]
     },
     "execution_count": 4,
     "metadata": {},
     "output_type": "execute_result"
    }
   ],
   "source": [
    "# Dividindo os dados em treino e teste. 70% para treino e 30% para teste\n",
    "\"\"\"Parâmetros: X são os dados que eu vou fornecer, Y é a classificação desses dados, test_size é o \n",
    "tamanho do teste (60%) da amostra, random_state é a aleatoriedade na divisão dos dados, shuffle é para\n",
    "embaralhar os dados, caso contrário ele vai pegar os 60% iniciais para treino e os 40% finais para teste\"\"\"\n",
    "X_treino, X_teste, Y_treino, Y_teste = train_test_split(X, Y, test_size=0.3, random_state=42, shuffle=True)\n",
    "\n",
    "# Vetorizando os dados de treino e de teste (transformando os textos em vetores numéricos)\n",
    "\"\"\"TF-IDF é uma técnica de processamento de linguagem natural (NLP) usada para representar a importância de uma \n",
    "palavra em um documento. Ela considera a frequência com que uma palavra aparece em um documento (Term Frequency) \n",
    "e a raridade da palavra em relação a todos os documentos da coleção (Inverse Document Frequency).\"\"\"\n",
    "txt_para_vetor = TfidfVectorizer()\n",
    "X_treino_vetor = txt_para_vetor.fit_transform(X_treino)\n",
    "X_teste_vetor = txt_para_vetor.transform(X_teste)\n",
    "\"\"\"O fit_transform() é usado para aprender o vocabulário do conjunto de dados de treinamento e também para\n",
    "transformar os dados de treinamento em vetores de características. O transform() é usado para transformar os\n",
    "dados de teste em vetores característicos com base no vocabulário aprendido.\"\"\""
   ]
  },
  {
   "cell_type": "code",
   "execution_count": 5,
   "metadata": {},
   "outputs": [
    {
     "name": "stdout",
     "output_type": "stream",
     "text": [
      "              precision    recall  f1-score   support\n",
      "\n",
      "    economia       0.97      0.99      0.98       115\n",
      "    esportes       0.97      0.97      0.97        59\n",
      "      cinema       0.96      0.94      0.95        87\n",
      "\n",
      "    accuracy                           0.97       261\n",
      "   macro avg       0.97      0.97      0.97       261\n",
      "weighted avg       0.97      0.97      0.97       261\n",
      "\n",
      "['economia' 'esportes' 'cinema'] [0 1 2]\n"
     ]
    }
   ],
   "source": [
    "# Treinando o modelo\n",
    "\"\"\"O modelo utiliza um gradiente descendente estocástico (SGD) para classificação | loss é a função de perda,\n",
    "que é uma função apropriada para separar classes binárias, mas que no caso de 3 classes, também foi efetiva |\n",
    " alpha é a constante que multiplica o termo de regularização e que controla a força dela (penalidade) |\n",
    " tol é o critério de parada, portanto, não há critério de parada.\"\"\"\n",
    "modelo = SGDClassifier(loss = 'hinge', alpha = 1e-3, random_state = 42, max_iter = 5, tol = None)\n",
    "modelo.fit(X_treino_vetor, Y_treino)\n",
    "\n",
    "# Fazendo as previsões dos tipos de notícia do conjunto de teste\n",
    "previsao = modelo.predict(X_teste_vetor)\n",
    "\n",
    "#Y_teste.values são os valores reais do conjunto de testes(csv), previsao são os valores previstos pelo modelo\n",
    "print(metrics.classification_report(Y_teste.values, previsao, target_names = tipo_de_noticia))\n",
    "print(tipo_de_noticia, modelo.classes_)"
   ]
  },
  {
   "cell_type": "code",
   "execution_count": 6,
   "metadata": {},
   "outputs": [
    {
     "name": "stdout",
     "output_type": "stream",
     "text": [
      "[[114   0   1]\n",
      " [  0  57   2]\n",
      " [  3   2  82]]\n"
     ]
    },
    {
     "data": {
      "image/png": "[encoded data removed]",
      "text/plain": [
       "<Figure size 480x480 with 2 Axes>"
      ]
     },
     "metadata": {},
     "output_type": "display_data"
    }
   ],
   "source": [
    "# Plotando a matriz de confusão\n",
    "matriz_de_confusao = confusion_matrix(Y_teste.values, previsao)\n",
    "print(matriz_de_confusao)\n",
    "plt.matshow(matriz_de_confusao, cmap='Blues')\n",
    "plt.title('Matriz de confusão')\n",
    "plt.colorbar()\n",
    "plt.ylabel(\"Classificações corretas\")\n",
    "plt.xlabel(\"Classificações obtidas\")\n",
    "plt.show()"
   ]
  },
  {
   "cell_type": "markdown",
   "metadata": {},
   "source": [
    "Interpretação da matriz: leio pelas linhas, esperava classificação 0, obtive classificação 0, esperava classificação 0, obtive classificação 1, esperava classificação 0, obtive classificação 2."
   ]
  },
  {
   "cell_type": "code",
   "execution_count": 7,
   "metadata": {},
   "outputs": [
    {
     "name": "stdout",
     "output_type": "stream",
     "text": [
      "['economia' 'esportes' 'cinema']\n"
     ]
    },
    {
     "data": {
      "text/html": [
       "<div>\n",
       "<style scoped>\n",
       "    .dataframe tbody tr th:only-of-type {\n",
       "        vertical-align: middle;\n",
       "    }\n",
       "\n",
       "    .dataframe tbody tr th {\n",
       "        vertical-align: top;\n",
       "    }\n",
       "\n",
       "    .dataframe thead th {\n",
       "        text-align: right;\n",
       "    }\n",
       "</style>\n",
       "<table border=\"1\" class=\"dataframe\">\n",
       "  <thead>\n",
       "    <tr style=\"text-align: right;\">\n",
       "      <th>Previsto</th>\n",
       "      <th>0</th>\n",
       "      <th>1</th>\n",
       "      <th>2</th>\n",
       "      <th>All</th>\n",
       "    </tr>\n",
       "    <tr>\n",
       "      <th>Real</th>\n",
       "      <th></th>\n",
       "      <th></th>\n",
       "      <th></th>\n",
       "      <th></th>\n",
       "    </tr>\n",
       "  </thead>\n",
       "  <tbody>\n",
       "    <tr>\n",
       "      <th>0</th>\n",
       "      <td>114</td>\n",
       "      <td>0</td>\n",
       "      <td>1</td>\n",
       "      <td>115</td>\n",
       "    </tr>\n",
       "    <tr>\n",
       "      <th>1</th>\n",
       "      <td>0</td>\n",
       "      <td>57</td>\n",
       "      <td>2</td>\n",
       "      <td>59</td>\n",
       "    </tr>\n",
       "    <tr>\n",
       "      <th>2</th>\n",
       "      <td>3</td>\n",
       "      <td>2</td>\n",
       "      <td>82</td>\n",
       "      <td>87</td>\n",
       "    </tr>\n",
       "    <tr>\n",
       "      <th>All</th>\n",
       "      <td>117</td>\n",
       "      <td>59</td>\n",
       "      <td>85</td>\n",
       "      <td>261</td>\n",
       "    </tr>\n",
       "  </tbody>\n",
       "</table>\n",
       "</div>"
      ],
      "text/plain": [
       "Previsto    0   1   2  All\n",
       "Real                      \n",
       "0         114   0   1  115\n",
       "1           0  57   2   59\n",
       "2           3   2  82   87\n",
       "All       117  59  85  261"
      ]
     },
     "execution_count": 7,
     "metadata": {},
     "output_type": "execute_result"
    }
   ],
   "source": [
    "print(tipo_de_noticia)\n",
    "pd.crosstab(Y_teste.values, previsao, rownames=['Real'], colnames=['Previsto'], margins=True)"
   ]
  },
  {
   "cell_type": "markdown",
   "metadata": {},
   "source": [
    "Explicação da matriz: As linhas informam quantas notícias foram classificadas como sendo 'economia', 'esportes' ou 'cinema'. Na primeira linha, 12 notícias de economia foram classificadas como economia e 1 notícia de economia foi classificada como cinema."
   ]
  },
  {
   "cell_type": "code",
   "execution_count": 8,
   "metadata": {},
   "outputs": [],
   "source": [
    "# Utilizando novas notícias para testar o modelo\n",
    "lista_noticias = [\"Depois de 40 dias de seca de vitórias em seu estádio, o Timão voltou a triunfar dentro de casa. E o resultado positivo diante do Furacão trouxe outras boas notícias.\",\n",
    "                  \"Antes do jogo, inclusive, o lateral reserva corria o risco de ser preterido pelo zagueiro Caetano. Foi determinante na jogada do gol.\",\n",
    "                  \"Mano Menezes não pôde contar com Fausto Vera e Fábio Santos. Gabriel Moscardo foi o volante mais recuado e Matheus Bidu ganhou chance na lateral-esquerda.\",\n",
    "                  \"A trama começa na Alemanha de 1959, quando Priscilla Beaulieu (Cailee Spaeny, da série Mare of Easttown), que vivia numa base militar americana, é convidada para uma festa comandada por Elvis Presley (Jacob Elordi, da série Euphoria).\",\n",
    "                  \"A jovem, de 14 anos na época, vive uma história de amor à primeira vista com o ídolo. Anos depois, ela consegue a permissão da família para viver com o cantor em Graceland, sua propriedade em Memphis.\",\n",
    "                  \"Este foi o terceiro corte seguido na taxa básica de juros, que começou a recuar em agosto deste ano.\",\n",
    "                  \"A decisão de hoje foi unânime. Ou seja, todos os membros do Copom votaram pela redução de 0,5 ponto percentual.\",\n",
    "                  \"O Comitê de Política Monetária (Copom) do Banco Central decidiu, nesta quarta-feira (01), reduzir a Selic em 0,5 ponto percentual, de 12,75 por cento ao ano para 12,25 por cento ao ano.\",\n",
    "                  \"A Selic chegou agora ao menor nível desde o início de maio de 2022 -- quando estava em 11,75% ao ano.\",\n",
    "                  \"Em continuação que estreia nesta quinta-feira (15), cineasta reforça conceito apresentado em blockbuster de 2009. Efeitos visuais incríveis contrastam com história insípida e pouco inspirada.\"\n",
    "                  ]"
   ]
  },
  {
   "cell_type": "code",
   "execution_count": 9,
   "metadata": {},
   "outputs": [
    {
     "name": "stdout",
     "output_type": "stream",
     "text": [
      "Depois de 40 dias de seca de vitórias em seu estádio, o Timã => cinema\n",
      "Antes do jogo, inclusive, o lateral reserva corria o risco d => esportes\n",
      "Mano Menezes não pôde contar com Fausto Vera e Fábio Santos. => esportes\n",
      "A trama começa na Alemanha de 1959, quando Priscilla Beaulie => cinema\n",
      "A jovem, de 14 anos na época, vive uma história de amor à pr => cinema\n",
      "Este foi o terceiro corte seguido na taxa básica de juros, q => economia\n",
      "A decisão de hoje foi unânime. Ou seja, todos os membros do  => economia\n",
      "O Comitê de Política Monetária (Copom) do Banco Central deci => economia\n",
      "A Selic chegou agora ao menor nível desde o início de maio d => economia\n",
      "Em continuação que estreia nesta quinta-feira (15), cineasta => cinema\n"
     ]
    }
   ],
   "source": [
    "def noticias_classificacao(noticias, vetorizador = txt_para_vetor, modelo = modelo, tipo = tipo_de_noticia):\n",
    "    noticias_vetorizadas = vetorizador.transform(noticias)\n",
    "    previsao = modelo.predict(noticias_vetorizadas)\n",
    "    for texto, tipo_noticia in zip(noticias, previsao):\n",
    "        parte_do_texto = texto[:60]\n",
    "        print(f'{parte_do_texto} => {tipo[tipo_noticia]}')\n",
    "\n",
    "noticias_classificacao(lista_noticias)"
   ]
  },
  {
   "cell_type": "code",
   "execution_count": 10,
   "metadata": {},
   "outputs": [
    {
     "name": "stdout",
     "output_type": "stream",
     "text": [
      "O Instituto Sigilo, oficialmente denominado Instituto Brasil => cinema\n",
      "Em setembro, a 1ª Vara Cível Federal de São Paulo aceitou o  => economia\n",
      "Os gols alvinegros foram três ao total. Logo no começo do se => esportes\n",
      "Naquela corrida, Russell largou na pole. Hamilton ficou na c => esportes\n",
      "Nesta quarta-feira (01), após a vitória de 2 a 1 em cima do  => esportes\n"
     ]
    }
   ],
   "source": [
    "noticia = [\"O Instituto Sigilo, oficialmente denominado Instituto Brasileiro de Defesa da Proteção de Dados Pessoais, Compliance e Segurança da Informação, lançou um novo portal destinado à verificação das informações de beneficiários do extinto programa Auxílio Brasil. Esse portal permite que os beneficiários confirmem se seus dados pessoais foram comprometidos e se têm direito a receber compensação.\",\n",
    "\"Em setembro, a 1ª Vara Cível Federal de São Paulo aceitou o pedido do Instituto Sigilo e determinou o pagamento de R$ 15 mil a título de danos morais a cada pessoa afetada\",\n",
    "\"Os gols alvinegros foram três ao total. Logo no começo do segundo tempo, o outro time descontou com um golaço. Aos 30 minutos, em lance capital, o zagueiro , do Botafogo, foi expulso.\",\n",
    "\"Naquela corrida, Russell largou na pole. Hamilton ficou na cola do companheiro de equipe, chegou a assumir a liderança, mas foi superado pela estabilidade do colega com tempo de 1h38min34s044. Ambos dividiram o pódio brasileiro em 2022 com Carlos Sainz, da Ferrari.\",\n",
    "\"Nesta quarta-feira (01), após a vitória de 2 a 1 em cima do Coritiba, pela 31ª rodada do Campeonato Brasileiro, o vice-presidente de futebol Antônio Brum comentou sobre um possível substituto a Suárez.\"\n",
    "]\n",
    "noticias_classificacao(noticia)"
   ]
  }
 ],
 "metadata": {
  "kernelspec": {
   "display_name": "Python 3",
   "language": "python",
   "name": "python3"
  },
  "language_info": {
   "codemirror_mode": {
    "name": "ipython",
    "version": 3
   },
   "file_extension": ".py",
   "mimetype": "text/x-python",
   "name": "python",
   "nbconvert_exporter": "python",
   "pygments_lexer": "ipython3",
   "version": "3.11.4"
  }
 },
 "nbformat": 4,
 "nbformat_minor": 2
}
