{
 "cells": [
  {
   "cell_type": "code",
   "execution_count": 4,
   "metadata": {},
   "outputs": [
    {
     "name": "stdout",
     "output_type": "stream",
     "text": [
      "{'resumo': 'Além da redação, candidatos respondem a 90 questões; SIGA', 'link': 'https://g1.globo.com/educacao/enem/2023/ao-vivo/enem-2023-gabarito-extraoficial-e-correcao-das-questoes-prova.ghtml', 'data_publicacao': 'Há 52 minutos'}\n",
      "{'resumo': 'Lula indica que Enem pode deixar de ter taxa de inscrição', 'link': 'https://g1.globo.com/politica/noticia/2023/11/05/lula-visita-o-inep-no-primeiro-dia-do-enem.ghtml', 'data_publicacao': 'Há 18 minutos'}\n",
      "{'resumo': 'Pioneira da televisão brasileira, atriz Lolita Rodrigues morre aos 94 anos', 'link': 'https://g1.globo.com/pb/paraiba/noticia/2023/11/05/atriz-lolita-rodrigues-morre-em-joao-pessoa-aos-94-anos.ghtml', 'data_publicacao': 'Há 57 minutos'}\n",
      "{'resumo': \"Em 2000, Lolita cantou o hino da TV no 'Programa do Jô' ao lado de Hebe e Nair\", 'link': 'https://g1.globo.com/globonews/jornal-globonews/video/lolita-rodrigues-canta-hino-da-tv-brasileira-no-programa-do-jo-12088512.ghtml', 'data_publicacao': 'Há 2 horas'}\n",
      "{'resumo': 'Como cantora, Lolita deu voz a boleros, sambas e canções', 'link': 'https://g1.globo.com/pop-arte/musica/blog/mauro-ferreira/post/2023/11/05/lolita-rodrigues-tambem-foi-cantora-de-boleros-sambas-e-cancoes.ghtml', 'data_publicacao': 'Há 2 horas'}\n",
      "{'resumo': 'Corpo de piloto de asa delta que sumiu após queda no mar é encontrado', 'link': 'https://g1.globo.com/sp/santos-regiao/noticia/2023/11/05/corpo-de-piloto-de-asa-delta-que-sumiu-apos-queda-no-mar-e-encontrado-no-litoral-de-sp.ghtml', 'data_publicacao': 'Há 3 horas'}\n",
      "{'resumo': 'Sobe para 7 o número de mortes após temporal em SP', 'link': 'https://g1.globo.com/sp/sao-paulo/noticia/2023/11/05/governo-de-sp-confirma-setima-morte-no-estado-em-decorrencia-das-chuvas-de-sexta.ghtml', 'data_publicacao': 'Há 3 horas'}\n",
      "{'resumo': 'Universidade que aplica Enem na Zona Leste de SP segue sem energia', 'link': 'https://g1.globo.com/sp/sao-paulo/noticia/2023/11/05/enem-2023-enel-diz-todas-as-escolas-de-sp-onde-sera-aplicado-o-enem-estao-com-energia.ghtml', 'data_publicacao': 'Há 2 horas'}\n",
      "{'resumo': 'Bianca Andrade e babá do filho recebem alta 3 dias após acidente', 'link': 'https://g1.globo.com/rj/sul-do-rio-costa-verde/noticia/2023/11/05/bianca-andrade-e-baba-do-filho-recebem-alta-em-hospital-de-sp-tres-dias-depois-de-acidente-no-rj.ghtml', 'data_publicacao': 'Há 58 minutos'}\n"
     ]
    }
   ],
   "source": [
    "import requests\n",
    "from bs4 import BeautifulSoup\n",
    "\n",
    "def get_news_from_g1():\n",
    "    # URL do site G1\n",
    "    url = 'https://g1.globo.com/'\n",
    "\n",
    "    try:\n",
    "        # Realiza a requisição ao site com um User-Agent para simular um navegador\n",
    "        headers = {'User-Agent': 'Mozilla/5.0'}\n",
    "        response = requests.get(url, headers=headers)\n",
    "        \n",
    "        # Verifica se a requisição foi bem sucedida\n",
    "        response.raise_for_status()\n",
    "\n",
    "        # Parse do conteúdo HTML\n",
    "        soup = BeautifulSoup(response.content, 'html.parser')\n",
    "        \n",
    "        # Encontra notícias\n",
    "        noticias = soup.find_all('div', class_='feed-post-body', limit=100)\n",
    "        arr_noticias = []\n",
    "\n",
    "        for noticia in noticias:\n",
    "            # Extrai o título\n",
    "            titulo = noticia.find('a', class_='feed-post-link')\n",
    "            titulo_text = titulo.get_text(strip=True) if titulo else 'Título não encontrado'\n",
    "            link = titulo['href'] if titulo else 'Link não encontrado'\n",
    "            \n",
    "            # Extrai a data de publicação\n",
    "            data_publicacao = noticia.find('span', class_='feed-post-datetime')\n",
    "            data_text = data_publicacao.get_text(strip=True) if data_publicacao else 'Data de publicação não encontrada'\n",
    "\n",
    "            # Adiciona um dicionário com as informações da notícia na lista\n",
    "            arr_noticias.append({\n",
    "                'resumo': titulo_text,\n",
    "                'link': link,\n",
    "                'data_publicacao': data_text\n",
    "            })\n",
    "\n",
    "        return arr_noticias\n",
    "\n",
    "    except requests.HTTPError as http_err:\n",
    "        print(f\"HTTP error occurred: {http_err}\")\n",
    "    except Exception as err:\n",
    "        print(f\"An error occurred: {err}\")\n",
    "\n",
    "# Executa a função e imprime o resultado\n",
    "noticias = get_news_from_g1()\n",
    "for noticia in noticias:\n",
    "    print(noticia)\n"
   ]
  }
 ],
 "metadata": {
  "kernelspec": {
   "display_name": "Python 3",
   "language": "python",
   "name": "python3"
  },
  "language_info": {
   "codemirror_mode": {
    "name": "ipython",
    "version": 3
   },
   "file_extension": ".py",
   "mimetype": "text/x-python",
   "name": "python",
   "nbconvert_exporter": "python",
   "pygments_lexer": "ipython3",
   "version": "3.10.7"
  },
  "orig_nbformat": 4
 },
 "nbformat": 4,
 "nbformat_minor": 2
}
